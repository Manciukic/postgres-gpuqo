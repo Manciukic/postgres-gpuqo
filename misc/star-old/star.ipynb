{
 "metadata": {
  "language_info": {
   "codemirror_mode": {
    "name": "ipython",
    "version": 3
   },
   "file_extension": ".py",
   "mimetype": "text/x-python",
   "name": "python",
   "nbconvert_exporter": "python",
   "pygments_lexer": "ipython3",
   "version": "3.8.5-final"
  },
  "orig_nbformat": 2,
  "kernelspec": {
   "name": "python_defaultSpec_1600357115063",
   "display_name": "Python 3.8.5 64-bit"
  }
 },
 "nbformat": 4,
 "nbformat_minor": 2,
 "cells": [
  {
   "cell_type": "code",
   "execution_count": 11,
   "metadata": {},
   "outputs": [],
   "source": [
    "from random import randint, sample\n",
    "\n",
    "CENTRAL_TABLE_PATTERN=\"\"\"CREATE TABLE T0 (\n",
    "    pk INT PRIMARY KEY,\n",
    "%s\n",
    ");\n",
    "\"\"\"\n",
    "\n",
    "TABLE_PATTERN=\"\"\"CREATE TABLE T%d (\n",
    "    pk INT PRIMARY KEY\n",
    ");\n",
    "\"\"\"\n",
    "\n",
    "FK_PATTERN=\"\"\"ALTER TABLE T0\n",
    "ADD FOREIGN KEY (t%d) REFERENCES T%d(pk);\n",
    "\"\"\"\n",
    "\n",
    "def make_create_tables(n):\n",
    "    out = \"\"\n",
    "    columns = \",\\n\".join([\"t%d INT\" % i for i in range(1,n)])\n",
    "    out += CENTRAL_TABLE_PATTERN % columns\n",
    "    for i in range(1,n):\n",
    "        out += TABLE_PATTERN % i\n",
    "    return out\n",
    "\n",
    "def make_foreign_keys(n):\n",
    "    out = \"\"\n",
    "    for i in range(1,n):\n",
    "        out += FK_PATTERN % (i,i)\n",
    "    return out\n",
    "\n",
    "def make_insert_into(n, size=10000):\n",
    "    out = \"\"\n",
    "    for i in range(1,n):\n",
    "        out += f\"INSERT INTO T{i} (pk)\\nVALUES\\n\"\n",
    "        values = [f\"    ({j})\" for j in range(size)]\n",
    "        out += \",\\n\".join(values)\n",
    "        out += \";\\n\\n\"\n",
    "\n",
    "    columns = ', '.join([f\"t{i}\" for i in range(1,n)])\n",
    "    out += f\"INSERT INTO T0 (pk, {columns})\\nVALUES\\n\"\n",
    "    values = [f\"    ({j}, {', '.join([str(randint(0,size-1)) for i in range(1,n)])})\" for j in range(size)]\n",
    "    out += \",\\n\".join(values)\n",
    "    out += \";\\n\\n\"\n",
    "    return out\n",
    "\n",
    "def make_query(N, n):\n",
    "    qs = sample(list(range(1,N)), n-1)\n",
    "    from_clause = \", \".join([\"T%d\" % j for j in qs] + [\"T0\"])\n",
    "    where_clause = \" AND \".join([\"T0.t%d = T%d.pk\" % (j,j) for j in qs])\n",
    "    return f\"SELECT * FROM {from_clause} WHERE {where_clause}; -- {n}\"\n"
   ]
  },
  {
   "cell_type": "code",
   "execution_count": 12,
   "metadata": {},
   "outputs": [],
   "source": [
    "import string\n",
    "labels = [f\"{a}{b}\" for a in string.ascii_lowercase for b in string.ascii_lowercase]\n",
    "\n",
    "N = 40\n",
    "\n",
    "with open(\"create_tables.sql\", 'w') as f:\n",
    "    f.write(make_create_tables(N))\n",
    "    f.write('\\n')\n",
    "\n",
    "with open(\"add_foreign_keys.sql\", 'w') as f:\n",
    "    f.write(make_foreign_keys(N))\n",
    "    f.write('\\n')\n",
    "\n",
    "with open(\"fill_tables.sql\", 'w') as f:\n",
    "    f.write(make_insert_into(N))\n",
    "    f.write('\\n')\n",
    "\n",
    "for n in range(2,N):\n",
    "    for i in range(10):\n",
    "        with open(f\"queries/{n:02d}{labels[i]}.sql\", 'w') as f:\n",
    "            f.write(make_query(N, n))\n",
    "            f.write(\"\\n\")"
   ]
  },
  {
   "cell_type": "code",
   "execution_count": null,
   "metadata": {},
   "outputs": [],
   "source": []
  },
  {
   "cell_type": "code",
   "execution_count": null,
   "metadata": {},
   "outputs": [],
   "source": []
  }
 ]
}