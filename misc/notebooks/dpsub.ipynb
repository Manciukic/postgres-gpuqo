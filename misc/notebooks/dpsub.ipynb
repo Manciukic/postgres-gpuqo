{
 "metadata": {
  "language_info": {
   "codemirror_mode": {
    "name": "ipython",
    "version": 3
   },
   "file_extension": ".py",
   "mimetype": "text/x-python",
   "name": "python",
   "nbconvert_exporter": "python",
   "pygments_lexer": "ipython3",
   "version": "3.8.5-final"
  },
  "orig_nbformat": 2,
  "kernelspec": {
   "name": "python_defaultSpec_1599034475048",
   "display_name": "Python 3.8.3 64-bit"
  }
 },
 "nbformat": 4,
 "nbformat_minor": 2,
 "cells": [
  {
   "cell_type": "code",
   "execution_count": 1,
   "metadata": {},
   "outputs": [],
   "source": [
    "from scipy.special import binom"
   ]
  },
  {
   "cell_type": "code",
   "execution_count": 2,
   "metadata": {},
   "outputs": [],
   "source": [
    "def log2_int(n):\n",
    "    p = 0\n",
    "    i = 0\n",
    "    while n > 0:\n",
    "        if (n & 1<<i) != 0:\n",
    "            n -= 1<<i\n",
    "            p = i\n",
    "        i += 1\n",
    "    return p\n",
    "\n",
    "def get_k_set_bit(n, k):\n",
    "    i = 0\n",
    "    while n > 0 and k > 0:\n",
    "        if (n & 1<<i) != 0:\n",
    "            n -= 1<<i\n",
    "            k -= 1\n",
    "        i += 1\n",
    "    return i-1"
   ]
  },
  {
   "cell_type": "code",
   "execution_count": 3,
   "metadata": {},
   "outputs": [],
   "source": [
    "def bin_enum(qss, sid, sq):\n",
    "    s = 0\n",
    "    t = 0\n",
    "    while sq > 0 and qss > 0:\n",
    "        o = binom(sq-1, qss-1)\n",
    "        print(f\"sid={sid}, sq={sq}, qss={qss}, o={o}, t={t}\")\n",
    "        if sid < o:\n",
    "            s |= 1 << t\n",
    "            qss -= 1\n",
    "        else:\n",
    "            sid = sid - o\n",
    "        t += 1\n",
    "        sq -= 1\n",
    "    return s\n",
    "\n",
    "def pos_enum(s, cid, qss):\n",
    "    l = 0\n",
    "    cid += 1\n",
    "    while cid > 0:\n",
    "        mtid = log2_int(cid)\n",
    "        # print(f\"mtid={mtid}, cid={cid}\",)\n",
    "        ntid = get_k_set_bit(s, qss-mtid)\n",
    "        # print(f\"ntid={ntid}\",)\n",
    "        l |= 1 << ntid\n",
    "        # print(f\"l=0b{l:b}\")\n",
    "        cid = cid - 2**mtid\n",
    "    r = s - l \n",
    "    assert (l&s) == l\n",
    "    return (l, r)\n",
    "\n",
    "def pos_enum_pdep(s, cid, qss):\n",
    "    _s = s\n",
    "    l = 0\n",
    "    cid += 1\n",
    "    bb = 1\n",
    "    while _s:\n",
    "        if cid & bb:\n",
    "            l |= _s & -_s\n",
    "        _s &= _s - 1\n",
    "        bb += bb\n",
    "    return l, s-l\n",
    "\n",
    "def dpsub_enum(s, cid, qss):\n",
    "    l = s & (-s)\n",
    "    while cid > 0:\n",
    "        l = s & (l-s)\n",
    "        cid -= 1\n",
    "    return l, s-l\n"
   ]
  },
  {
   "cell_type": "code",
   "execution_count": 4,
   "metadata": {
    "tags": []
   },
   "outputs": [
    {
     "output_type": "stream",
     "name": "stdout",
     "text": "5 \n\nsid=0, sq=5, qss=4, o=4.0, t=0\nsid=0, sq=4, qss=3, o=3.0, t=1\nsid=0, sq=3, qss=2, o=2.0, t=2\nsid=0, sq=2, qss=1, o=1.0, t=3\n0b01111\n    0b01000 0b00111\n        0b00001 0b01110\n        0b00001 0b01110\n    0b00100 0b01011\n        0b00010 0b01101\n        0b00010 0b01101\n    0b01100 0b00011\n        0b00011 0b01100\n        0b00011 0b01100\n    0b00010 0b01101\n        0b00100 0b01011\n        0b00100 0b01011\n    0b01010 0b00101\n        0b00101 0b01010\n        0b00101 0b01010\n    0b00110 0b01001\n        0b00110 0b01001\n        0b00110 0b01001\n    0b01110 0b00001\n        0b00111 0b01000\n        0b00111 0b01000\n    0b00001 0b01110\n        0b01000 0b00111\n        0b01000 0b00111\n    0b01001 0b00110\n        0b01001 0b00110\n        0b01001 0b00110\n    0b00101 0b01010\n        0b01010 0b00101\n        0b01010 0b00101\n    0b01101 0b00010\n        0b01011 0b00100\n        0b01011 0b00100\n    0b00011 0b01100\n        0b01100 0b00011\n        0b01100 0b00011\n    0b01011 0b00100\n        0b01101 0b00010\n        0b01101 0b00010\n    0b00111 0b01000\n        0b01110 0b00001\n        0b01110 0b00001\nsid=1, sq=5, qss=4, o=4.0, t=0\nsid=1, sq=4, qss=3, o=3.0, t=1\nsid=1, sq=3, qss=2, o=2.0, t=2\nsid=1, sq=2, qss=1, o=1.0, t=3\nsid=0.0, sq=1, qss=1, o=1.0, t=4\n0b10111\n    0b10000 0b00111\n        0b00001 0b10110\n        0b00001 0b10110\n    0b00100 0b10011\n        0b00010 0b10101\n        0b00010 0b10101\n    0b10100 0b00011\n        0b00011 0b10100\n        0b00011 0b10100\n    0b00010 0b10101\n        0b00100 0b10011\n        0b00100 0b10011\n    0b10010 0b00101\n        0b00101 0b10010\n        0b00101 0b10010\n    0b00110 0b10001\n        0b00110 0b10001\n        0b00110 0b10001\n    0b10110 0b00001\n        0b00111 0b10000\n        0b00111 0b10000\n    0b00001 0b10110\n        0b10000 0b00111\n        0b10000 0b00111\n    0b10001 0b00110\n        0b10001 0b00110\n        0b10001 0b00110\n    0b00101 0b10010\n        0b10010 0b00101\n        0b10010 0b00101\n    0b10101 0b00010\n        0b10011 0b00100\n        0b10011 0b00100\n    0b00011 0b10100\n        0b10100 0b00011\n        0b10100 0b00011\n    0b10011 0b00100\n        0b10101 0b00010\n        0b10101 0b00010\n    0b00111 0b10000\n        0b10110 0b00001\n        0b10110 0b00001\nsid=2, sq=5, qss=4, o=4.0, t=0\nsid=2, sq=4, qss=3, o=3.0, t=1\nsid=2, sq=3, qss=2, o=2.0, t=2\nsid=0.0, sq=2, qss=2, o=1.0, t=3\nsid=0.0, sq=1, qss=1, o=1.0, t=4\n0b11011\n    0b10000 0b01011\n        0b00001 0b11010\n        0b00001 0b11010\n    0b01000 0b10011\n        0b00010 0b11001\n        0b00010 0b11001\n    0b11000 0b00011\n        0b00011 0b11000\n        0b00011 0b11000\n    0b00010 0b11001\n        0b01000 0b10011\n        0b01000 0b10011\n    0b10010 0b01001\n        0b01001 0b10010\n        0b01001 0b10010\n    0b01010 0b10001\n        0b01010 0b10001\n        0b01010 0b10001\n    0b11010 0b00001\n        0b01011 0b10000\n        0b01011 0b10000\n    0b00001 0b11010\n        0b10000 0b01011\n        0b10000 0b01011\n    0b10001 0b01010\n        0b10001 0b01010\n        0b10001 0b01010\n    0b01001 0b10010\n        0b10010 0b01001\n        0b10010 0b01001\n    0b11001 0b00010\n        0b10011 0b01000\n        0b10011 0b01000\n    0b00011 0b11000\n        0b11000 0b00011\n        0b11000 0b00011\n    0b10011 0b01000\n        0b11001 0b00010\n        0b11001 0b00010\n    0b01011 0b10000\n        0b11010 0b00001\n        0b11010 0b00001\nsid=3, sq=5, qss=4, o=4.0, t=0\nsid=3, sq=4, qss=3, o=3.0, t=1\nsid=0.0, sq=3, qss=3, o=1.0, t=2\nsid=0.0, sq=2, qss=2, o=1.0, t=3\nsid=0.0, sq=1, qss=1, o=1.0, t=4\n0b11101\n    0b10000 0b01101\n        0b00001 0b11100\n        0b00001 0b11100\n    0b01000 0b10101\n        0b00100 0b11001\n        0b00100 0b11001\n    0b11000 0b00101\n        0b00101 0b11000\n        0b00101 0b11000\n    0b00100 0b11001\n        0b01000 0b10101\n        0b01000 0b10101\n    0b10100 0b01001\n        0b01001 0b10100\n        0b01001 0b10100\n    0b01100 0b10001\n        0b01100 0b10001\n        0b01100 0b10001\n    0b11100 0b00001\n        0b01101 0b10000\n        0b01101 0b10000\n    0b00001 0b11100\n        0b10000 0b01101\n        0b10000 0b01101\n    0b10001 0b01100\n        0b10001 0b01100\n        0b10001 0b01100\n    0b01001 0b10100\n        0b10100 0b01001\n        0b10100 0b01001\n    0b11001 0b00100\n        0b10101 0b01000\n        0b10101 0b01000\n    0b00101 0b11000\n        0b11000 0b00101\n        0b11000 0b00101\n    0b10101 0b01000\n        0b11001 0b00100\n        0b11001 0b00100\n    0b01101 0b10000\n        0b11100 0b00001\n        0b11100 0b00001\nsid=4, sq=5, qss=4, o=4.0, t=0\nsid=0.0, sq=4, qss=4, o=1.0, t=1\nsid=0.0, sq=3, qss=3, o=1.0, t=2\nsid=0.0, sq=2, qss=2, o=1.0, t=3\nsid=0.0, sq=1, qss=1, o=1.0, t=4\n0b11110\n    0b10000 0b01110\n        0b00010 0b11100\n        0b00010 0b11100\n    0b01000 0b10110\n        0b00100 0b11010\n        0b00100 0b11010\n    0b11000 0b00110\n        0b00110 0b11000\n        0b00110 0b11000\n    0b00100 0b11010\n        0b01000 0b10110\n        0b01000 0b10110\n    0b10100 0b01010\n        0b01010 0b10100\n        0b01010 0b10100\n    0b01100 0b10010\n        0b01100 0b10010\n        0b01100 0b10010\n    0b11100 0b00010\n        0b01110 0b10000\n        0b01110 0b10000\n    0b00010 0b11100\n        0b10000 0b01110\n        0b10000 0b01110\n    0b10010 0b01100\n        0b10010 0b01100\n        0b10010 0b01100\n    0b01010 0b10100\n        0b10100 0b01010\n        0b10100 0b01010\n    0b11010 0b00100\n        0b10110 0b01000\n        0b10110 0b01000\n    0b00110 0b11000\n        0b11000 0b00110\n        0b11000 0b00110\n    0b10110 0b01000\n        0b11010 0b00100\n        0b11010 0b00100\n    0b01110 0b10000\n        0b11100 0b00010\n        0b11100 0b00010\n"
    }
   ],
   "source": [
    "qss = 4\n",
    "sq = 5\n",
    "n = int(binom(sq, qss))\n",
    "print(n, '\\n')\n",
    "for i in range(n):\n",
    "    query = bin_enum(qss, i, sq)\n",
    "    print(f\"0b{query:0{sq}b}\")\n",
    "    for j in range(2**qss-2):\n",
    "        l, r = pos_enum(query, j, qss)\n",
    "        print(f\"    0b{l:0{sq}b} 0b{r:0{sq}b}\")\n",
    "        assert (l|r) == query\n",
    "        l_pdep, r_pdep = pos_enum_pdep(query, j, qss)\n",
    "        print(f\"        0b{l_pdep:0{sq}b} 0b{r_pdep:0{sq}b}\")\n",
    "        assert (l_pdep|r_pdep) == query\n",
    "        l_dpsub, r_dpsub = dpsub_enum(query, j, qss)\n",
    "        print(f\"        0b{l_dpsub:0{sq}b} 0b{r_dpsub:0{sq}b}\")\n",
    "        assert (l_dpsub|r_dpsub) == query\n",
    "        "
   ]
  },
  {
   "cell_type": "code",
   "execution_count": null,
   "metadata": {},
   "outputs": [],
   "source": []
  },
  {
   "cell_type": "code",
   "execution_count": 5,
   "metadata": {
    "tags": []
   },
   "outputs": [
    {
     "output_type": "execute_result",
     "data": {
      "text/plain": "1"
     },
     "metadata": {},
     "execution_count": 5
    }
   ],
   "source": [
    "log2_int(2)"
   ]
  },
  {
   "cell_type": "code",
   "execution_count": 5,
   "metadata": {
    "tags": []
   },
   "outputs": [
    {
     "output_type": "stream",
     "name": "stdout",
     "text": "sq= 2, qss= 2: n_sets=   1, n_joins_per_set=   2, tot=2\nsq= 3, qss= 2: n_sets=   3, n_joins_per_set=   2, tot=6\nsq= 3, qss= 3: n_sets=   1, n_joins_per_set=   6, tot=6\nsq= 4, qss= 2: n_sets=   6, n_joins_per_set=   2, tot=12\nsq= 4, qss= 3: n_sets=   4, n_joins_per_set=   6, tot=24\nsq= 4, qss= 4: n_sets=   1, n_joins_per_set=  14, tot=14\nsq= 5, qss= 2: n_sets=  10, n_joins_per_set=   2, tot=20\nsq= 5, qss= 3: n_sets=  10, n_joins_per_set=   6, tot=60\nsq= 5, qss= 4: n_sets=   5, n_joins_per_set=  14, tot=70\nsq= 5, qss= 5: n_sets=   1, n_joins_per_set=  30, tot=30\nsq= 6, qss= 2: n_sets=  15, n_joins_per_set=   2, tot=30\nsq= 6, qss= 3: n_sets=  20, n_joins_per_set=   6, tot=120\nsq= 6, qss= 4: n_sets=  15, n_joins_per_set=  14, tot=210\nsq= 6, qss= 5: n_sets=   6, n_joins_per_set=  30, tot=180\nsq= 6, qss= 6: n_sets=   1, n_joins_per_set=  62, tot=62\nsq= 7, qss= 2: n_sets=  21, n_joins_per_set=   2, tot=42\nsq= 7, qss= 3: n_sets=  35, n_joins_per_set=   6, tot=210\nsq= 7, qss= 4: n_sets=  35, n_joins_per_set=  14, tot=490\nsq= 7, qss= 5: n_sets=  21, n_joins_per_set=  30, tot=630\nsq= 7, qss= 6: n_sets=   7, n_joins_per_set=  62, tot=434\nsq= 7, qss= 7: n_sets=   1, n_joins_per_set= 126, tot=126\nsq= 8, qss= 2: n_sets=  28, n_joins_per_set=   2, tot=56\nsq= 8, qss= 3: n_sets=  56, n_joins_per_set=   6, tot=336\nsq= 8, qss= 4: n_sets=  70, n_joins_per_set=  14, tot=980\nsq= 8, qss= 5: n_sets=  56, n_joins_per_set=  30, tot=1680\nsq= 8, qss= 6: n_sets=  28, n_joins_per_set=  62, tot=1736\nsq= 8, qss= 7: n_sets=   8, n_joins_per_set= 126, tot=1008\nsq= 8, qss= 8: n_sets=   1, n_joins_per_set= 254, tot=254\nsq= 9, qss= 2: n_sets=  36, n_joins_per_set=   2, tot=72\nsq= 9, qss= 3: n_sets=  84, n_joins_per_set=   6, tot=504\nsq= 9, qss= 4: n_sets= 126, n_joins_per_set=  14, tot=1764\nsq= 9, qss= 5: n_sets= 126, n_joins_per_set=  30, tot=3780\nsq= 9, qss= 6: n_sets=  84, n_joins_per_set=  62, tot=5208\nsq= 9, qss= 7: n_sets=  36, n_joins_per_set= 126, tot=4536\nsq= 9, qss= 8: n_sets=   9, n_joins_per_set= 254, tot=2286\nsq= 9, qss= 9: n_sets=   1, n_joins_per_set= 510, tot=510\nsq=10, qss= 2: n_sets=  45, n_joins_per_set=   2, tot=90\nsq=10, qss= 3: n_sets= 120, n_joins_per_set=   6, tot=720\nsq=10, qss= 4: n_sets= 210, n_joins_per_set=  14, tot=2940\nsq=10, qss= 5: n_sets= 252, n_joins_per_set=  30, tot=7560\nsq=10, qss= 6: n_sets= 210, n_joins_per_set=  62, tot=13020\nsq=10, qss= 7: n_sets= 120, n_joins_per_set= 126, tot=15120\nsq=10, qss= 8: n_sets=  45, n_joins_per_set= 254, tot=11430\nsq=10, qss= 9: n_sets=  10, n_joins_per_set= 510, tot=5100\nsq=10, qss=10: n_sets=   1, n_joins_per_set=1022, tot=1022\n"
    }
   ],
   "source": [
    "for sq in range(2,11):\n",
    "    for qss in range(2, sq+1):\n",
    "        n_sets= int(binom(sq, qss))\n",
    "        n_joins_per_set = 2**qss-2\n",
    "        tot = n_sets * n_joins_per_set\n",
    "        print(f\"sq={sq:2d}, qss={qss:2d}: n_sets={n_sets:4d}, n_joins_per_set={n_joins_per_set:4d}, tot={tot}\")\n",
    "        "
   ]
  },
  {
   "cell_type": "code",
   "execution_count": 7,
   "metadata": {
    "tags": []
   },
   "outputs": [
    {
     "output_type": "stream",
     "name": "stdout",
     "text": "sid=5, sq=5, qss=3, o=6.0, t=0\nsid=5, sq=4, qss=2, o=3.0, t=1\nsid=2.0, sq=3, qss=2, o=2.0, t=2\nsid=0.0, sq=2, qss=2, o=1.0, t=3\nsid=0.0, sq=1, qss=1, o=1.0, t=4\n"
    },
    {
     "output_type": "execute_result",
     "data": {
      "text/plain": "25"
     },
     "metadata": {},
     "execution_count": 7
    }
   ],
   "source": [
    "bin_enum(3, 5, 5)"
   ]
  },
  {
   "cell_type": "code",
   "execution_count": 8,
   "metadata": {},
   "outputs": [
    {
     "output_type": "execute_result",
     "data": {
      "text/plain": "nan"
     },
     "metadata": {},
     "execution_count": 8
    }
   ],
   "source": [
    "binom(-1,-1)"
   ]
  },
  {
   "cell_type": "code",
   "execution_count": 56,
   "metadata": {},
   "outputs": [],
   "source": [
    "def ceil_div(a,b):\n",
    "    return (a+b-1)//b"
   ]
  },
  {
   "cell_type": "code",
   "execution_count": 55,
   "metadata": {
    "tags": []
   },
   "outputs": [
    {
     "output_type": "stream",
     "name": "stdout",
     "text": "2 10 14 140\n1 7\n2 2\n    0 1 8\n    0 8 15\n2 2\n    1 1 8\n    1 8 15\n2 2\n    2 1 8\n    2 8 15\n2 2\n    3 1 8\n    3 8 15\n2 2\n    4 1 8\n    4 8 15\n2 2\n    5 1 8\n    5 8 15\n2 2\n    6 1 8\n    6 8 15\n2 2\n    7 1 8\n    7 8 15\n2 2\n    8 1 8\n    8 8 15\n2 2\n    9 1 8\n    9 8 15\n"
    }
   ],
   "source": [
    "n_parallel = 2\n",
    "n_sets = 10\n",
    "n_joins_per_set = 2**4 - 2\n",
    "tot = n_sets * n_joins_per_set\n",
    "\n",
    "print(n_parallel, n_sets, n_joins_per_set, tot)\n",
    "\n",
    "if n_sets >= gpuqo_dpsub_n_parallel:\n",
    "    n_joins_per_thread = n_joins_per_set\n",
    "    n_sets_per_iteration = gpuqo_dpsub_n_parallel\n",
    "else:\n",
    "    n_joins_per_thread = ceil_div(tot, gpuqo_dpsub_n_parallel)\n",
    "    n_sets_per_iteration = tot/n_joins_per_thread\n",
    "\n",
    "print(n_sets_per_iteration, n_joins_per_thread)\n",
    "\n",
    "offset = 0\n",
    "id_offset = 0\n",
    "n_iters = 0\n",
    "while offset < tot:\n",
    "    if (n_sets-offset/n_joins_per_set) >= n_sets_per_iteration:\n",
    "        n_threads = n_sets_per_iteration*ceil_div(n_joins_per_set, n_joins_per_thread)\n",
    "    else:\n",
    "        n_threads = (n_sets-offset//n_joins_per_set)*(ceil_div(n_joins_per_set,n_joins_per_thread)\n",
    "\n",
    "    splits_per_qs = ceil_div(n_joins_per_set,n_joins_per_thread)\n",
    "    print(n_threads, splits_per_qs)\n",
    "    for tid in range(n_threads):\n",
    "        sid = (tid+id_offset) // splits_per_qs\n",
    "        cid = ((tid+id_offset) % splits_per_qs)*n_joins_per_thread+1\n",
    "        print(\"   \", sid, cid, cid + n_joins_per_thread)\n",
    "    \n",
    "    n_iters += 1\n",
    "    offset += n_sets_per_iteration*n_joins_per_set\n",
    "    id_offset += n_threads"
   ]
  },
  {
   "cell_type": "code",
   "execution_count": null,
   "metadata": {},
   "outputs": [],
   "source": []
  }
 ]
}